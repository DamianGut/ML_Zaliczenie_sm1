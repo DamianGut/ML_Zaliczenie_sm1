{
 "cells": [
  {
   "cell_type": "markdown",
   "id": "2f05ca5c",
   "metadata": {},
   "source": [
    " # Wpływ pandemi COVID-19 na zmianę jakości powietrza w UK #\n",
    "\n",
    "* * * \n",
    "\n",
    "## 1. Wstęp\n",
    "Celem niniejszego badania jest ocena wpływu pandemii COVID-19 na zmiany jakości powietrza na obszarze Wielkiej Brytanii. Punktem wyjścia dla analizy była wspólna hipoteza badawcza członków zespołu, zgodnie z którą ograniczenia mobilności społecznej, wymuszone przez wprowadzone lockdowny oraz restrykcje sanitarne, mogły znacząco wpłynąć na poziom zanieczyszczeń powietrza w analizowanym okresie.\n",
    "\n",
    "Podstawowym źródłem danych wykorzystanym w badaniu był zbiór [Hourly Air Quality Data from the UK DEFRA AURN network for the years 2015–2023](https://www.kaggle.com/datasets/airqualityanthony/uk-defra-aurn-air-quality-data-2015-2023), zawierający szczegółowe, godzinowe dane<br /> \n",
    "o jakości powietrza pozyskane z Automatycznej Sieci Monitorującej (Automatic Urban and Rural Network – AURN). Dane obejmują pomiary dla kluczowych zanieczyszczeń atmosferycznych, takich jak: tlenek węgla (CO), tlenki azotu (NOₓ), dwutlenek azotu (NO₂), tlenek azotu (NO), ozon (O₃) oraz dwutlenek siarki (SO₂). Każdy pomiar został dodatkowo wzbogacony o dane meteorologiczne oraz współrzędne geoprzestrzenne punktów pomiarowych, co umożliwia precyzyjne przypisanie wyników do konkretnych lokalizacji i warunków atmosferycznych.\n",
    "\n",
    "Na potrzeby badania ocena jakość powietrza określana na podstawie stężeń CO, NOₓ, NO₂, NO, O₃ i SO₂ została określona za pomocą indeksu jakości powietrza (AQI – Air Quality Index).<br />\n",
    "W zależności od wartości AQI przypisuje się jedną z kategorii, np.:\n",
    "\n",
    "| AQI      | Kategoria (PL)                              | Odpowiednik US-EPA / WHO       |\n",
    "| -------- | ------------------------------------------- | ------------------------------ |\n",
    "| <span style=\"color: black; background-color: green;\"> 0–50     | Bardzo dobra (zielony)                      | Good                           |\n",
    "| <span style=\"color: black; background-color: yellow;\"> 51–100   | Dobra / Umiarkowana                         | Moderate                       |\n",
    "| <span style=\"color: black; background-color: orange;\"> 101–150  | Umiarkowana / Uciążliwa dla wrażliwych grup | Unhealthy for Sensitive Groups |\n",
    "| <span style=\"color: black; background-color: red;\"> 151–200+ | Zła, bardzo zła, ekstremalna                | Unhealthy–Hazardous            |\n",
    "\n",
    "\n",
    "Aby zbadać potencjalny związek pomiędzy skalą rozprzestrzeniania się wirusa SARS-CoV-2 a jakością powietrza – pośrednio, poprzez wpływ lockdownów na aktywność społeczną i przemysłową \n",
    "<br /> – w analizie uwzględniono również dane ze strony [UKHSA data dashboard](hhttps://ukhsa-dashboard.data.gov.uk/). Wykorzystano plik ltla_newCasesBySpecimenDate. Zawiera on informacje o liczbie zakażeń w poszczególnych miastach Wielkiej Brytanii w okresie od marca 2020 do stycznia 2022 roku.\n",
    "\n",
    "Dwa zestawy danych zostały zintegrowane na podstawie daty oraz lokalizacji (region geograficzny), przy czym dane o jakości powietrza zostały agregowane do poziomu dziennego w celu umożliwienia spójnego połączenia z dobowymi danymi dotyczącymi liczby zakażeń. Lokalizacje punktów pomiarowych zostały przypisane do odpowiadających im miast, zgodnie z systemem klasyfikacji przestrzennej stosowanym w pliku  ltla_newCasesBySpecimenDate.\n",
    "\n",
    ">Ze względu na bardzo dużą objętość danych oraz ograniczenia przetwarzania i integracji informacji geoprzestrzennych, a także w celu zwiększenia dokładności analiz i możliwości wizualizacji wyników, podjęto decyzję o zawężeniu badanego obszaru wyłącznie do miasta Londyn. Londyn, jako największa aglomeracja w Wielkiej Brytanii, charakteryzuje się dobrze rozwiniętą siecią pomiarową (AURN). Umożliwia to przeprowadzenie rzetelnej analizy bez kompromisu względem jakości danych.\n",
    "\n",
    "Tak przygotowany zbiór umożliwia równoległą analizę zmienności poziomu zanieczyszczeń oraz przebiegu fal pandemicznych w ujęciu czasowym, z zachowaniem pełnej spójności danych dla jednego, dobrze udokumentowanego obszaru metropolitalnego.\n",
    "\n",
    "Zintegrowany zbiór danych pozwala na weryfikację następujących pytań badawczych:\n",
    "\n",
    "* Czy pandemia COVID-19 miała istotny wpływ na jakość powietrza w Wielkiej Brytanii?\n",
    "\n",
    "* Jakie zmiany w poziomach poszczególnych zanieczyszczeń atmosferycznych można zaobserwować w okresie przed i w trakcie pandemii?\n",
    "\n",
    "* Czy różnice te są skorelowane z intensywnością poszczególnych fal zakażeń oraz wprowadzanymi ograniczeniami społecznymi?\n",
    "\n",
    "* W jakim stopniu efekty pandemii były trwałe lub przejściowe?\n",
    "\n",
    "Dla celów porównawczych okres pandemii został podzielony na sześć głównych faz, zgodnych z kalendarzem epidemiologicznym:\n",
    "1. Początek epidemii i globalna eskalacja (grudzień 2019 – marzec 2020)\n",
    "\n",
    "1. Pierwsza fala i lockdowny (marzec – czerwiec 2020)\n",
    "\n",
    "1. Okres letni – częściowe poluzowania (lipiec – wrzesień 2020)\n",
    "\n",
    "1. Druga fala pandemii (październik 2020 – styczeń 2021)\n",
    "\n",
    "1. Początek kampanii szczepień (grudzień 2020 – marzec 2021)\n",
    "\n",
    "1. Dominacja wariantu Delta i kolejne fale (kwiecień – grudzień 2021)\n",
    "\n"
   ]
  },
  {
   "cell_type": "markdown",
   "id": "b0bc7653",
   "metadata": {},
   "source": [
    "## 2. Czyszczenie i porządkowanie danych"
   ]
  }
 ],
 "metadata": {
  "kernelspec": {
   "display_name": "Python 3",
   "language": "python",
   "name": "python3"
  },
  "language_info": {
   "name": "python",
   "version": "3.13.2"
  }
 },
 "nbformat": 4,
 "nbformat_minor": 5
}
