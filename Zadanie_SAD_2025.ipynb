{
 "cells": [
  {
   "cell_type": "markdown",
   "id": "041e0fdf",
   "metadata": {},
   "source": [
    " # Wpływ pandemi COVID-19 na zmianę jakości powietrza w UK #\n",
    "\n",
    "* * * \n",
    "\n",
    "## 1. Wstęp\n",
    "Celem niniejszego badania jest ocena wpływu pandemii COVID-19 na zmiany jakości powietrza na obszarze Wielkiej Brytanii. Punktem wyjścia dla analizy była wspólna hipoteza badawcza członków zespołu, zgodnie z którą ograniczenia mobilności społecznej, wymuszone przez wprowadzone lockdowny oraz restrykcje sanitarne, mogły znacząco wpłynąć na poziom zanieczyszczeń powietrza w analizowanym okresie.\n",
    "\n",
    "Podstawowym źródłem danych wykorzystanym w badaniu był zbiór [Hourly Air Quality Data from the UK DEFRA AURN network for the years 2015–2023](https://www.kaggle.com/datasets/airqualityanthony/uk-defra-aurn-air-quality-data-2015-2023), zawierający szczegółowe, godzinowe dane<br /> \n",
    "o jakości powietrza pozyskane z Automatycznej Sieci Monitorującej (Automatic Urban and Rural Network – AURN). Dane obejmują pomiary dla kluczowych zanieczyszczeń atmosferycznych, takich jak: tlenek węgla (CO), tlenki azotu (NOₓ), dwutlenek azotu (NO₂), tlenek azotu (NO), ozon (O₃) oraz dwutlenek siarki (SO₂). Każdy pomiar został dodatkowo wzbogacony o dane meteorologiczne oraz współrzędne geoprzestrzenne punktów pomiarowych, co umożliwia precyzyjne przypisanie wyników do konkretnych lokalizacji i warunków atmosferycznych.\n",
    "\n",
    "Aby zbadać potencjalny związek pomiędzy skalą rozprzestrzeniania się wirusa SARS-CoV-2 a jakością powietrza – pośrednio, poprzez wpływ lockdownów na aktywność społeczną i przemysłową \n",
    "<br /> – w analizie uwzględniono również dane z pliku [England_Regions_COVID_Dataset.csv](https://www.kaggle.com/datasets/vascodegama/uk-covid19-data). Zawiera on informacje o liczbie zakażeń w poszczególnych regionach Wielkiej Brytanii w okresie od marca 2020 do stycznia 2022 roku.\n",
    "\n",
    "Dwa zestawy danych zostały zintegrowane na podstawie daty oraz lokalizacji (region geograficzny), przy czym dane o jakości powietrza zostały agregowane do poziomu dziennego w celu umożliwienia spójnego połączenia z dobowymi danymi dotyczącymi liczby zakażeń. Lokalizacje punktów pomiarowych zostały przypisane do odpowiadających im jednostek administracyjnych (np. regionów Anglii), zgodnie z systemem klasyfikacji przestrzennej stosowanym w zbiorze COVID-19. Tak przygotowany zbiór umożliwia równoległą analizę zmienności poziomu zanieczyszczeń oraz przebiegu fal pandemicznych w ujęciu regionalnym i czasowym.\n",
    "\n",
    "Zintegrowany zbiór danych pozwala na weryfikację następujących pytań badawczych:\n",
    "\n",
    "* Czy pandemia COVID-19 miała istotny wpływ na jakość powietrza w Wielkiej Brytanii?\n",
    "\n",
    "* Jakie zmiany w poziomach poszczególnych zanieczyszczeń atmosferycznych można zaobserwować w okresie przed i w trakcie pandemii?\n",
    "\n",
    "* Czy różnice te są skorelowane z intensywnością poszczególnych fal zakażeń oraz wprowadzanymi ograniczeniami społecznymi?\n",
    "\n",
    "* W jakim stopniu efekty pandemii były trwałe lub przejściowe?\n",
    "\n",
    "Dla celów porównawczych okres pandemii został podzielony na sześć głównych faz, zgodnych z kalendarzem epidemiologicznym:\n",
    "1. Początek epidemii i globalna eskalacja (grudzień 2019 – marzec 2020)\n",
    "\n",
    "1. Pierwsza fala i lockdowny (marzec – czerwiec 2020)\n",
    "\n",
    "1. Okres letni – częściowe poluzowania (lipiec – wrzesień 2020)\n",
    "\n",
    "1. Druga fala pandemii (październik 2020 – styczeń 2021)\n",
    "\n",
    "1. Początek kampanii szczepień (grudzień 2020 – marzec 2021)\n",
    "\n",
    "1. Dominacja wariantu Delta i kolejne fale (kwiecień – grudzień 2021)\n",
    "\n"
   ]
  },
  {
   "cell_type": "markdown",
   "id": "2f0cd351",
   "metadata": {},
   "source": [
    "## 2. Czyszczenie i porządkowanie danych\n",
    "\n",
    "Import"
   ]
  },
  {
   "cell_type": "code",
   "execution_count": 7,
   "id": "9d36c1e0",
   "metadata": {},
   "outputs": [
    {
     "ename": "SyntaxError",
     "evalue": "unterminated string literal (detected at line 7) (2184579296.py, line 7)",
     "output_type": "error",
     "traceback": [
      "  \u001b[36mCell\u001b[39m\u001b[36m \u001b[39m\u001b[32mIn[7]\u001b[39m\u001b[32m, line 7\u001b[39m\n\u001b[31m    \u001b[39m\u001b[31m\"airqualityanthony/uk-defra-aurn-air-quality-data-2015-2023\", AURN_2015_2023.csv\")\u001b[39m\n                                                                                    ^\n\u001b[31mSyntaxError\u001b[39m\u001b[31m:\u001b[39m unterminated string literal (detected at line 7)\n"
     ]
    }
   ],
   "source": [
    "import kagglehub\n",
    "from kagglehub import KaggleDatasetAdapter\n",
    "#ff\n",
    "\n",
    "df = kagglehub.load_dataset(\n",
    "  KaggleDatasetAdapter.PANDAS,\n",
    "  \"airqualityanthony/uk-defra-aurn-air-quality-data-2015-2023\", AURN_2015_2023.csv\")\n",
    "print(\"First 5 records:\", df.head())"
   ]
  },
  {
   "cell_type": "code",
   "execution_count": null,
   "id": "7689d4a6",
   "metadata": {},
   "outputs": [],
   "source": [
    "#hhhhh"
   ]
  }
 ],
 "metadata": {
  "kernelspec": {
   "display_name": "Python 3",
   "language": "python",
   "name": "python3"
  },
  "language_info": {
   "codemirror_mode": {
    "name": "ipython",
    "version": 3
   },
   "file_extension": ".py",
   "mimetype": "text/x-python",
   "name": "python",
   "nbconvert_exporter": "python",
   "pygments_lexer": "ipython3",
   "version": "3.13.2"
  }
 },
 "nbformat": 4,
 "nbformat_minor": 5
}
